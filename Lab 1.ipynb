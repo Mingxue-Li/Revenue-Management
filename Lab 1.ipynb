{
 "cells": [
  {
   "cell_type": "markdown",
   "metadata": {},
   "source": [
    "# Lab 1\n",
    "** Name: Mingxue Li **"
   ]
  },
  {
   "cell_type": "markdown",
   "metadata": {},
   "source": [
    "## 1. Executive Summary"
   ]
  },
  {
   "cell_type": "markdown",
   "metadata": {},
   "source": [
    "Our analytical team examined the pricing policy for Trojan Airlines and applied simulation modeling to find optimized pricing parameters for each policy. Our process includes generating customers, simulating pricing policies and optimizing parameters. Below is a summary of our analysis results:\n",
    "\n",
    "- Optimal price for constant pricing policy is **255**, and the expected profit is **2860.75**.  \n",
    "- Optimal p1, p2 for dynamic pricing policy is **240 ,315**, and the expected profit is **3726.70**.  \n",
    "- Optimal p1, p2, l for capacity rationing policy is **235, 315** and **38** and the expected profit is **4073.30**.\n",
    "\n",
    "Based on the analytical result, we recommend the company to adopt Capacity Rationing policy with the highest expected profit which is 4073.30. "
   ]
  },
  {
   "cell_type": "markdown",
   "metadata": {},
   "source": [
    "## 2. Generating Customers"
   ]
  },
  {
   "cell_type": "markdown",
   "metadata": {},
   "source": [
    "### Method 1"
   ]
  },
  {
   "cell_type": "code",
   "execution_count": 1,
   "metadata": {
    "scrolled": true
   },
   "outputs": [
    {
     "data": {
      "text/plain": [
       "<Figure size 640x480 with 1 Axes>"
      ]
     },
     "metadata": {},
     "output_type": "display_data"
    }
   ],
   "source": [
    "from scipy.stats import uniform\n",
    "from scipy.stats import norm\n",
    "import numpy as np\n",
    "import matplotlib.pyplot as plt\n",
    "import pandas as pd\n",
    "def generateCustomers():\n",
    "    arrival_time = []\n",
    "    valuation = []\n",
    "    leisure_size = int(norm(200, 60).rvs())\n",
    "    business_size = int(norm(60, 20).rvs())\n",
    "    leisure_time = uniform(0, 180)\n",
    "    business_time = uniform(0, 14)\n",
    "    leisure_maxpay = norm(200, 80)\n",
    "    business_maxpay = norm(350, 120)\n",
    "    for i in range (leisure_size+1):\n",
    "        arrival1 = leisure_time.rvs()\n",
    "        val1 = leisure_maxpay.rvs()\n",
    "        arrival_time.append(arrival1)\n",
    "        valuation.append(val1)\n",
    "\n",
    "    for n in range(business_size+1):\n",
    "        arrival2 = business_time.rvs()\n",
    "        val2 = business_maxpay.rvs()\n",
    "        arrival_time.append(arrival2)\n",
    "        valuation.append(val2)\n",
    "    customers = pd.DataFrame({'arrival_time':arrival_time,'valuation':valuation})\n",
    "    customers=customers.sort_values(by = 'arrival_time', ascending = False).reset_index(drop=True) \n",
    "    return customers\n",
    "\n",
    "np.random.seed(0)\n",
    "generateCustomers().plot(x = 'arrival_time', y = 'valuation', kind = 'scatter')\n",
    "plt.show()"
   ]
  },
  {
   "cell_type": "markdown",
   "metadata": {},
   "source": [
    "### Method 2"
   ]
  },
  {
   "cell_type": "code",
   "execution_count": 2,
   "metadata": {},
   "outputs": [],
   "source": [
    "def generateCustomers():\n",
    "    LC = round(np.random.normal(200, scale = 60))\n",
    "    BC = round(np.random.normal(60, scale = 20))\n",
    "    arrival_time_LC = np.random.uniform(low = 0, high = 180, size = LC)\n",
    "    arrival_time_BC = np.random.uniform(low = 0, high = 14, size = BC)\n",
    "    willingness_LC = np.random.normal(200, scale = 80, size = LC)\n",
    "    willingness_BC = np.random.normal(350, scale = 120, size = BC)\n",
    "    arrival_time = [round(i, 1) for i in list(arrival_time_LC) + list(arrival_time_BC)]\n",
    "    valuation = [int(round(i)) for i in list(willingness_LC ) + list(willingness_BC)]\n",
    "    df_dic = {'arrival_time':arrival_time, 'valuation':valuation}\n",
    "    return pd.DataFrame(df_dic).sort_values('arrival_time', ascending = False).reset_index(drop = True)"
   ]
  },
  {
   "cell_type": "code",
   "execution_count": 3,
   "metadata": {},
   "outputs": [
    {
     "data": {
      "text/plain": [
       "<matplotlib.axes._subplots.AxesSubplot at 0x1a15bb84e0>"
      ]
     },
     "execution_count": 3,
     "metadata": {},
     "output_type": "execute_result"
    },
    {
     "data": {
      "image/png": "[encoded data removed]",
      "text/plain": [
       "<Figure size 432x288 with 1 Axes>"
      ]
     },
     "metadata": {},
     "output_type": "display_data"
    }
   ],
   "source": [
    "np.random.seed(0)\n",
    "generateCustomers().plot(x = 'arrival_time', y = 'valuation', kind = 'scatter')"
   ]
  },
  {
   "cell_type": "markdown",
   "metadata": {},
   "source": [
    "## 3. Simulating Pricing Policies"
   ]
  },
  {
   "cell_type": "markdown",
   "metadata": {},
   "source": [
    "### Function simulateConstant()"
   ]
  },
  {
   "cell_type": "code",
   "execution_count": 4,
   "metadata": {},
   "outputs": [],
   "source": [
    "def simulateConstant(customers, seats, p):\n",
    "    num = 0\n",
    "    for ind, value in enumerate(customers['valuation']):\n",
    "        if value >= p:\n",
    "            num += 1\n",
    "    return p*min(num,seats)"
   ]
  },
  {
   "cell_type": "markdown",
   "metadata": {},
   "source": [
    "### Function simulateDynamic()"
   ]
  },
  {
   "cell_type": "code",
   "execution_count": 5,
   "metadata": {},
   "outputs": [],
   "source": [
    "def simulateDynamic(customers, seats,p1,p2):\n",
    "    price1customer = customers[customers['arrival_time']>=14]\n",
    "    price2customer = customers[customers['arrival_time']<14]\n",
    "    \n",
    "    count1 = 0\n",
    "    for index, row in price1customer.iterrows():\n",
    "        if row['valuation'] >= p1:\n",
    "            count1 +=1\n",
    "    \n",
    "    if count1 >= seats:\n",
    "        count1 = seats\n",
    "        revenue = seats * p1\n",
    "        #print(\"count of p1 is:\",count1, ',which is equal to the number of seats')\n",
    "    else:\n",
    "        count2 = 0\n",
    "        for index, row in price2customer.iterrows():\n",
    "            if row['valuation'] >= p2:\n",
    "                count2+=1\n",
    "\n",
    "        count2 = min(seats-count1,count2)\n",
    "        #print(\"count of p1 is:\",count1)\n",
    "        #print(\"count of p2 is:\",count2)\n",
    "        revenue = count1 * p1 + count2 * p2\n",
    "        \n",
    "    return revenue "
   ]
  },
  {
   "cell_type": "markdown",
   "metadata": {},
   "source": [
    "### Function simulateRationing()"
   ]
  },
  {
   "cell_type": "code",
   "execution_count": 6,
   "metadata": {},
   "outputs": [],
   "source": [
    "def simulateRationing(customers, seats, p1, p2, l): \n",
    "    s = 0\n",
    "    revenue = 0\n",
    "    for ind, val in enumerate(customers['valuation']):\n",
    "        seats_left = seats - s\n",
    "        if seats_left > l:\n",
    "            p = p1 \n",
    "        else:\n",
    "            p = p2\n",
    "        if p <= val:\n",
    "            s += 1\n",
    "            revenue = revenue + p\n",
    "        if s == seats:\n",
    "            break\n",
    "    return revenue "
   ]
  },
  {
   "cell_type": "markdown",
   "metadata": {},
   "source": [
    "### Testify the correctness of these functions"
   ]
  },
  {
   "cell_type": "code",
   "execution_count": 7,
   "metadata": {},
   "outputs": [
    {
     "name": "stdout",
     "output_type": "stream",
     "text": [
      "Constant policy with 2 seats p=50 \t: 100\n",
      "Constant policy with 2 seats p=100 \t: 100\n",
      "Dynamic policy with 3 seats p1=40, p2=95 \t: 175\n",
      "Dynamic policy with 2 seats p1=40, p2=95 \t: 80\n",
      "Dynamic policy with 1 seats p1=50, p2=100 \t: 50\n",
      "Rationing policy with 3 seats p1=40, p2=100, l=1 \t: 180\n",
      "Rationing policy with 2 seats p1=40, p2=100, l=1 \t: 140\n",
      "Rationing policy with 1 seats p1=40, p2=95, l=1 \t: 95\n"
     ]
    }
   ],
   "source": [
    "data=[[170,50],[150,40],[13,95],[12,100]]\n",
    "customers=pd.DataFrame(data,columns=['arrival_time','valuation'])\n",
    "print('Constant policy with 2 seats p=50 \\t:',simulateConstant(customers,2,50))\n",
    "print('Constant policy with 2 seats p=100 \\t:',simulateConstant(customers,2,100))\n",
    "print('Dynamic policy with 3 seats p1=40, p2=95 \\t:',simulateDynamic(customers,3,40,95))\n",
    "print('Dynamic policy with 2 seats p1=40, p2=95 \\t:',simulateDynamic(customers,2,40,95))\n",
    "print('Dynamic policy with 1 seats p1=50, p2=100 \\t:',simulateDynamic(customers,1,50,100))\n",
    "print('Rationing policy with 3 seats p1=40, p2=100, l=1 \\t:',\\\n",
    "        simulateRationing(customers,3,40,100,1))\n",
    "print('Rationing policy with 2 seats p1=40, p2=100, l=1 \\t:',\\\n",
    "        simulateRationing(customers,2,40,100,1))\n",
    "print('Rationing policy with 1 seats p1=40, p2=95, l=1 \\t:',\\\n",
    "simulateRationing(customers,1,40,95,1))"
   ]
  },
  {
   "cell_type": "markdown",
   "metadata": {},
   "source": [
    "## 4. Optimizing Parameters"
   ]
  },
  {
   "cell_type": "code",
   "execution_count": 8,
   "metadata": {},
   "outputs": [],
   "source": [
    "import numpy as np\n",
    "np.random.seed(0)\n",
    "customers_set = []\n",
    "for i in range(100):\n",
    "    c = generateCustomers()\n",
    "    customers_set.append(c)"
   ]
  },
  {
   "cell_type": "markdown",
   "metadata": {},
   "source": [
    "### Function optimizeConstant()"
   ]
  },
  {
   "cell_type": "code",
   "execution_count": 9,
   "metadata": {},
   "outputs": [],
   "source": [
    "def optimizeConstant(customers_set, price_min, price_max, seats):\n",
    "    fixed_cost = 20000\n",
    "    best_price = 0\n",
    "    best_expected_profit = -100000000\n",
    "    profit = 0\n",
    "            \n",
    "    for p in range(price_min, price_max, 100):\n",
    "        final_revenue = []\n",
    "        for cust in customers_set:\n",
    "            final_revenue.append(simulateConstant(cust,seats,p))\n",
    "        final_revenue = pd.Series(final_revenue)\n",
    "        profit = final_revenue.mean() - fixed_cost\n",
    "        if profit >= best_expected_profit:\n",
    "            best_expected_profit = profit\n",
    "            best_price = p\n",
    "    \n",
    "    for p in range(best_price-100, best_price+100, 20):\n",
    "        final_revenue = []\n",
    "        for cust in customers_set:\n",
    "            final_revenue.append(simulateConstant(cust,seats,p))\n",
    "        final_revenue = pd.Series(final_revenue)\n",
    "        profit = final_revenue.mean() - fixed_cost\n",
    "        if profit >= best_expected_profit:\n",
    "            best_expected_profit = profit\n",
    "            best_price = p\n",
    "    \n",
    "    for p in range(best_price-20, best_price+20, 5):\n",
    "        final_revenue = []\n",
    "        for cust in customers_set:\n",
    "            final_revenue.append(simulateConstant(cust,seats,p))\n",
    "        final_revenue = pd.Series(final_revenue)\n",
    "        profit = final_revenue.mean() - fixed_cost\n",
    "        if profit >= best_expected_profit:\n",
    "            best_expected_profit = profit\n",
    "            best_price = p  \n",
    "    print('constant Price Policy : best p ={:.0f}, best expected profit ={:.2f}'.format(best_price,best_expected_profit)) "
   ]
  },
  {
   "cell_type": "code",
   "execution_count": 10,
   "metadata": {},
   "outputs": [
    {
     "name": "stdout",
     "output_type": "stream",
     "text": [
      "constant Price Policy : best p =255, best expected profit =2860.75\n"
     ]
    }
   ],
   "source": [
    "optimizeConstant(customers_set, 0,700,100)"
   ]
  },
  {
   "cell_type": "markdown",
   "metadata": {},
   "source": [
    "### Function optimizeDynamic()"
   ]
  },
  {
   "cell_type": "code",
   "execution_count": 11,
   "metadata": {},
   "outputs": [],
   "source": [
    "def optimizeDynamic(customers_set, price1_min, price1_max, price2_min, price2_max, seats):\n",
    "    fixed_cost = 20000\n",
    "    best_expected_profit = -50000000\n",
    "\n",
    "    for p1 in range(price1_min, price1_max, 100):\n",
    "        for p2 in range(price2_min, price2_max, 100):\n",
    "            final_revenue = []\n",
    "            for cust in customers_set:\n",
    "                final_revenue.append(simulateDynamic(cust,seats,p1,p2))\n",
    "            final_revenue = pd.Series(final_revenue)\n",
    "            profit = final_revenue.mean() - fixed_cost\n",
    "            if profit >= best_expected_profit:\n",
    "                best_expected_profit = profit\n",
    "                best_p1 = p1\n",
    "                best_p2 = p2\n",
    "            \n",
    "                \n",
    "    for p1 in range(best_p1-100, best_p1+100, 20):\n",
    "        for p2 in range(best_p2-100, best_p2+100, 20):\n",
    "            final_revenue = []\n",
    "            for cust in customers_set:\n",
    "                final_revenue.append(simulateDynamic(cust,seats,p1,p2))\n",
    "            final_revenue = pd.Series(final_revenue)\n",
    "            profit = final_revenue.mean() - fixed_cost\n",
    "            if profit >= best_expected_profit:\n",
    "                best_expected_profit = profit\n",
    "                best_p1 = p1\n",
    "                best_p2 = p2\n",
    "            \n",
    "                \n",
    "    for p1 in range(best_p1-20, best_p1+20, 5):\n",
    "        for p2 in range(best_p2-20, best_p2+20, 5):\n",
    "            final_revenue = []\n",
    "            for cust in customers_set:\n",
    "                final_revenue.append(simulateDynamic(cust,seats,p1,p2))\n",
    "            final_revenue = pd.Series(final_revenue)\n",
    "            profit = final_revenue.mean() - fixed_cost\n",
    "            if profit >= best_expected_profit:\n",
    "                best_expected_profit = profit\n",
    "                best_p1 = p1\n",
    "                best_p2 = p2\n",
    "    print('Dynamic Price Policy : best p1 ={}, best_p2 = {}, best expected profit = {:.2f}'.format(best_p1,best_p2,best_expected_profit))  "
   ]
  },
  {
   "cell_type": "code",
   "execution_count": 12,
   "metadata": {},
   "outputs": [
    {
     "name": "stdout",
     "output_type": "stream",
     "text": [
      "Dynamic Price Policy : best p1 =240, best_p2 = 315, best expected profit = 3726.70\n"
     ]
    }
   ],
   "source": [
    "optimizeDynamic(customers_set, 0,700,50,1000,100)"
   ]
  },
  {
   "cell_type": "markdown",
   "metadata": {},
   "source": [
    "### Function optimizeRationing()"
   ]
  },
  {
   "cell_type": "code",
   "execution_count": 13,
   "metadata": {},
   "outputs": [],
   "source": [
    "def optimizeRationing(customers_set, min_p1, max_p1, min_p2, max_p2, min_l, max_l, seats):\n",
    "    fixed_cost = 20000\n",
    "    best_expected_profit = -1000000\n",
    "\n",
    "    for p1 in range(min_p1, max_p1, 100):\n",
    "        for p2 in range(min_p2, max_p2, 100):\n",
    "            for l in range(min_l, max_l):\n",
    "                fin_rev = []\n",
    "                for cust in customers_set:\n",
    "                    fin_rev.append(simulateRationing(cust,seats,p1,p2,l))\n",
    "                fin_rev = pd.Series(fin_rev)\n",
    "                profit = fin_rev.mean() - fixed_cost\n",
    "                if profit >= best_expected_profit:\n",
    "                    best_expected_profit = profit\n",
    "                    best_p1 = p1\n",
    "                    best_p2 = p2\n",
    "                    best_l = l\n",
    "    \n",
    "    for p1 in range(best_p1,best_p1+100, 20):\n",
    "        for p2 in range(best_p2-50, best_p2+50, 20):\n",
    "            for l in range(1, 100):\n",
    "                fin_rev = []\n",
    "                for cust in customers_set:\n",
    "                    fin_rev.append(simulateRationing(cust,seats,p1,p2,l))\n",
    "                fin_rev = pd.Series(fin_rev)\n",
    "                profit = fin_rev.mean() - fixed_cost\n",
    "                if profit > best_expected_profit:\n",
    "                    best_expected_profit = profit\n",
    "                    best_p1 = p1\n",
    "                    best_p2 = p2\n",
    "                    best_l = l\n",
    "    \n",
    "    for p1 in range(best_p1-10, best_p1+10, 5):\n",
    "        for p2 in range(best_p2-10, best_p2+10, 5):\n",
    "            for l in range(1, 100):\n",
    "                fin_rev = []\n",
    "                for cust in customers_set:\n",
    "                    fin_rev.append(simulateRationing(cust,seats,p1,p2,l))\n",
    "                fin_rev = pd.Series(fin_rev)\n",
    "                profit = fin_rev.mean() - fixed_cost\n",
    "                if profit > best_expected_profit:\n",
    "                    best_expected_profit = profit\n",
    "                    best_p1 = p1\n",
    "                    best_p2 = p2\n",
    "                    best_l = l\n",
    "    print(\"Capacity Rationing Policy : best p1 = {}, best p2 ={}, best l = {}, best expected profit = {:.2f}\".format(best_p1,best_p2,best_l,best_expected_profit))                            "
   ]
  },
  {
   "cell_type": "code",
   "execution_count": 14,
   "metadata": {},
   "outputs": [
    {
     "name": "stdout",
     "output_type": "stream",
     "text": [
      "Capacity Rationing Policy : best p1 = 235, best p2 =315, best l = 38, best expected profit = 4073.30\n"
     ]
    }
   ],
   "source": [
    "optimizeRationing(customers_set,200,300,300,400,0,100,100)"
   ]
  },
  {
   "cell_type": "code",
   "execution_count": null,
   "metadata": {},
   "outputs": [],
   "source": []
  }
 ],
 "metadata": {
  "kernelspec": {
   "display_name": "Python 3",
   "language": "python",
   "name": "python3"
  },
  "language_info": {
   "codemirror_mode": {
    "name": "ipython",
    "version": 3
   },
   "file_extension": ".py",
   "mimetype": "text/x-python",
   "name": "python",
   "nbconvert_exporter": "python",
   "pygments_lexer": "ipython3",
   "version": "3.6.5"
  }
 },
 "nbformat": 4,
 "nbformat_minor": 2
}
